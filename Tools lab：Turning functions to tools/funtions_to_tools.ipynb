{
 "cells": [
  {
   "cell_type": "markdown",
   "id": "14918d4e",
   "metadata": {},
   "source": [
    "## 2. Setup: Initialize environment and client"
   ]
  },
  {
   "cell_type": "code",
   "execution_count": 6,
   "id": "5e82dc36",
   "metadata": {},
   "outputs": [],
   "source": [
    "import json\n",
    "import display_functions\n",
    "from dotenv import load_dotenv\n",
    "_ = load_dotenv()"
   ]
  },
  {
   "cell_type": "markdown",
   "id": "c17d7f08",
   "metadata": {},
   "source": [
    "### 2.1 Getting started with AISuite"
   ]
  },
  {
   "cell_type": "code",
   "execution_count": 7,
   "id": "d1a053f8",
   "metadata": {},
   "outputs": [],
   "source": [
    "import aisuite as ai\n",
    "\n",
    "# Create an instance of the AISuite client\n",
    "client = ai.Client()"
   ]
  },
  {
   "cell_type": "markdown",
   "id": "e18adca1",
   "metadata": {},
   "source": [
    "## 3. Build your first tool\n",
    "\n",
    "### 3.1 Defining your function"
   ]
  },
  {
   "cell_type": "code",
   "execution_count": 8,
   "id": "b5f041a9",
   "metadata": {},
   "outputs": [],
   "source": [
    "from datetime import datetime\n",
    "\n",
    "def get_current_time():\n",
    "    \"\"\"\n",
    "    Returns the current time as a string.\n",
    "    \"\"\"\n",
    "    return datetime.now().strftime(\"%H:%M:%S\")"
   ]
  },
  {
   "cell_type": "markdown",
   "id": "0c3a0bca",
   "metadata": {},
   "source": [
    "Test out your function to what exactly this function returns.\n",
    "\n",
    "<div style=\"background-color:#ffe4e1; padding:12px; border-radius:6px; color:black;\">\n",
    "  <strong>Note:</strong> The DeepLearning.AI platform uses Greenwich Mean Time (GMT) by default. If you run this function locally, it will return your local time instead.\n",
    "</div>"
   ]
  },
  {
   "cell_type": "code",
   "execution_count": 9,
   "id": "9a522da5",
   "metadata": {},
   "outputs": [
    {
     "data": {
      "text/plain": [
       "'15:51:06'"
      ]
     },
     "execution_count": 9,
     "metadata": {},
     "output_type": "execute_result"
    }
   ],
   "source": [
    "get_current_time()"
   ]
  },
  {
   "cell_type": "markdown",
   "id": "03d9369d",
   "metadata": {},
   "source": [
    "### 3.2 Turning your function into an LLM tool"
   ]
  },
  {
   "cell_type": "markdown",
   "id": "9eed5e83",
   "metadata": {},
   "source": [
    "构建与 LLM 的对话结构，让它能够调用你注册的工具。\n",
    "\n",
    "* 创建一个标准的消息格式"
   ]
  },
  {
   "cell_type": "code",
   "execution_count": 10,
   "id": "1d4ad99a",
   "metadata": {},
   "outputs": [],
   "source": [
    "# Message structure\n",
    "prompt = \"What time is it?\"\n",
    "messages = [\n",
    "    {\n",
    "        \"role\": \"user\",\n",
    "        \"content\": prompt,\n",
    "    }\n",
    "]"
   ]
  },
  {
   "cell_type": "markdown",
   "id": "04346f18",
   "metadata": {},
   "source": [
    "* 构造一次完整的对话调用（chat completion），让 LLM 参与决策、调用工具，并生成回答。"
   ]
  },
  {
   "cell_type": "code",
   "execution_count": 11,
   "id": "443ca97d",
   "metadata": {},
   "outputs": [
    {
     "name": "stdout",
     "output_type": "stream",
     "text": [
      "The current time is 15:51:09 (3:51 PM).\n"
     ]
    }
   ],
   "source": [
    "response = client.chat.completions.create(\n",
    "    model=\"deepseek:deepseek-chat\",\n",
    "    messages=messages,\n",
    "    tools=[get_current_time],\n",
    "    max_turns=5\n",
    ")\n",
    "\n",
    "# See the LLM response\n",
    "print(response.choices[0].message.content)"
   ]
  },
  {
   "cell_type": "markdown",
   "id": "4d08b134",
   "metadata": {},
   "source": [
    "### 3.3 Taking a closer look at the response\n",
    "\n",
    "用辅助函数 pretty_print_chat_completion 来可视化 LLM 的思考过程和工具调用细节。"
   ]
  },
  {
   "cell_type": "code",
   "execution_count": 12,
   "id": "ea90f71d",
   "metadata": {},
   "outputs": [
    {
     "data": {
      "text/html": [
       "\n",
       "                <div style=\"border-left: 4px solid #444; margin: 10px 0; padding: 10px; background: #f0f0f0;\">\n",
       "                    <strong style=\"color:#222;\">🧠 LLM Action:</strong> <code>get_current_time</code>\n",
       "                    <pre style=\"color:#000; font-size:13px;\">{}</pre>\n",
       "                </div>\n",
       "                \n",
       "            <div style=\"border-left: 4px solid #007bff; margin: 10px 0; padding: 10px; background: #eef6ff;\">\n",
       "                <strong style=\"color:#222;\">🔧 Tool Response:</strong> <code>get_current_time</code>\n",
       "                <pre style=\"color:#000; font-size:13px;\">\"15:51:09\"</pre>\n",
       "            </div>\n",
       "            \n",
       "    <div style=\"border-left: 4px solid #28a745; margin: 20px 0; padding: 10px; background: #eafbe7;\">\n",
       "        <strong style=\"color:#222;\">✅ Final Assistant Message:</strong>\n",
       "        <p style=\"color:#000;\">The current time is 15:51:09 (3:51 PM).</p>\n",
       "    </div>\n",
       "    \n",
       "        <div style=\"border-left: 4px solid #666; margin: 20px 0; padding: 10px; background: #f8f9fa;\">\n",
       "            <strong style=\"color:#222;\">🧭 Tool Sequence:</strong>\n",
       "            <p style=\"color:#000;\">get_current_time</p>\n",
       "        </div>\n",
       "        "
      ],
      "text/plain": [
       "<IPython.core.display.HTML object>"
      ]
     },
     "metadata": {},
     "output_type": "display_data"
    }
   ],
   "source": [
    "display_functions.pretty_print_chat_completion(response)"
   ]
  },
  {
   "cell_type": "markdown",
   "id": "92631a3d",
   "metadata": {},
   "source": [
    "### 3.4 Manually defining tools\n",
    "\n",
    "手动定义工具的 schema（结构化描述）\n",
    "\n",
    "> 🧪 为什么要手动定义？\n",
    ">\n",
    "> 虽然 AISuite 可以自动从函数推断出工具结构（通过装饰器和 docstring），但手动定义有几个优势：\n",
    ">\n",
    "> ✅ 更精细控制工具描述（可以写更详细的提示）\n",
    ">\n",
    "> ✅ 可以动态构造工具列表（比如根据用户权限或上下文）\n",
    ">\n",
    "> ✅ 可以与非 Python 函数集成（如远程 API）\n",
    "\n",
    "让 LLM 生成调用请求，但由你来识别并执行工具，然后再把结果反馈给 LLM。"
   ]
  },
  {
   "cell_type": "code",
   "execution_count": 13,
   "id": "2631c216",
   "metadata": {},
   "outputs": [],
   "source": [
    "tools = [{\n",
    "    \"type\": \"function\",\n",
    "    \"function\": {\n",
    "        \"name\": \"get_current_time\",\n",
    "        \"description\": \"Returns the current time as a string.\",\n",
    "        \"parameters\": {\n",
    "            \"type\": \"object\",\n",
    "            \"properties\": {}\n",
    "        }\n",
    "    }\n",
    "}]\n"
   ]
  },
  {
   "cell_type": "code",
   "execution_count": 14,
   "id": "9d886997",
   "metadata": {},
   "outputs": [],
   "source": [
    "response = client.chat.completions.create(\n",
    "    model=\"deepseek:deepseek-chat\",\n",
    "    messages=messages,\n",
    "    tools=tools, # <-- Your list of tools with get_current_time\n",
    "    # max_turns=5 # <-- When defining tools manually, you must handle calls yourself and cannot use max_turns\n",
    ")"
   ]
  },
  {
   "cell_type": "code",
   "execution_count": 15,
   "id": "b6c10471",
   "metadata": {},
   "outputs": [
    {
     "name": "stdout",
     "output_type": "stream",
     "text": [
      "{\n",
      "  \"content\": \"I'll check the current time for you.\",\n",
      "  \"reasoning_content\": null,\n",
      "  \"tool_calls\": [\n",
      "    {\n",
      "      \"id\": \"call_00_zGvVw79IgwpSSV4Fs9fJUNl2\",\n",
      "      \"function\": {\n",
      "        \"arguments\": \"{}\",\n",
      "        \"name\": \"get_current_time\"\n",
      "      },\n",
      "      \"type\": \"function\"\n",
      "    }\n",
      "  ],\n",
      "  \"role\": \"assistant\",\n",
      "  \"refusal\": null\n",
      "}\n"
     ]
    }
   ],
   "source": [
    "print(json.dumps(response.choices[0].message.model_dump(), indent=2, default=str))"
   ]
  },
  {
   "cell_type": "code",
   "execution_count": 16,
   "id": "1a616647",
   "metadata": {},
   "outputs": [
    {
     "name": "stdout",
     "output_type": "stream",
     "text": [
      "The current time is 15:51:12.\n"
     ]
    }
   ],
   "source": [
    "response2 = None\n",
    "\n",
    "# Create a condition in case tool_calls is in response object\n",
    "if response.choices[0].message.tool_calls:\n",
    "    # Pull out the specific tool metadata from the response\n",
    "    tool_call = response.choices[0].message.tool_calls[0]\n",
    "    args = json.loads(tool_call.function.arguments)\n",
    "\n",
    "    # Run the tool locally\n",
    "    tool_result = get_current_time()\n",
    "\n",
    "    # Append the result to the messages list\n",
    "    messages.append(response.choices[0].message)\n",
    "    messages.append({\n",
    "        \"role\": \"tool\", \"tool_call_id\": tool_call.id, \"content\": str(tool_result)\n",
    "    })\n",
    "\n",
    "    # Send the list of messages with the newly appended results back to the LLM\n",
    "    response2 = client.chat.completions.create(\n",
    "        model=\"deepseek:deepseek-chat\",\n",
    "        messages=messages,\n",
    "        tools=tools,\n",
    "    )\n",
    "\n",
    "    print(response2.choices[0].message.content)\n"
   ]
  },
  {
   "cell_type": "markdown",
   "id": "e5111c11",
   "metadata": {},
   "source": [
    "## 4. Giving the LLM more tools"
   ]
  },
  {
   "cell_type": "markdown",
   "id": "fe0f51ba",
   "metadata": {},
   "source": [
    "### 4.1 Three new tools\n",
    "\n",
    "You will define three new tools for your LLM:\n",
    "\n",
    "- **Weather Tool (`get_weather_from_ip`)**\n",
    "  Detects the user’s location and returns the current, the high, and the low temperature using external API calls to detect your IP address and then send that to a weather API to get the current weather.\n",
    "\n",
    "- **File Writing Tool (`write_txt_file`)**\n",
    "  Creates a text file with the specified content in your local environment. The function takes two arguments, `file_path` and `content`.\n",
    "\n",
    "- **QR Code Generator (`generate_qr_code`)**\n",
    "  Generates a QR code image from data, with optional image embedding. The function takes three arguments: `data`, `filename`, and `img_path`.\n"
   ]
  },
  {
   "cell_type": "code",
   "execution_count": null,
   "id": "bbe46b34",
   "metadata": {},
   "outputs": [],
   "source": [
    "import requests\n",
    "import qrcode\n",
    "from qrcode.image.styledpil import StyledPilImage\n",
    "\n",
    "\n",
    "def get_weather_from_ip():\n",
    "    \"\"\"\n",
    "    Gets the current, high, and low temperature in Fahrenheit for the user's\n",
    "    location and returns it to the user.\n",
    "    \"\"\"\n",
    "    # Get location coordinates from the IP address\n",
    "    lat, lon = requests.get('https://ipinfo.io/json').json()['loc'].split(',')\n",
    "\n",
    "    # Set parameters for the weather API call\n",
    "    params = {\n",
    "        \"latitude\": lat,\n",
    "        \"longitude\": lon,\n",
    "        \"current\": \"temperature_2m\",\n",
    "        \"daily\": \"temperature_2m_max,temperature_2m_min\",\n",
    "        \"temperature_unit\": \"fahrenheit\",\n",
    "        \"timezone\": \"auto\"\n",
    "    }\n",
    "\n",
    "    # Get weather data\n",
    "    weather_data = requests.get(\"https://api.open-meteo.com/v1/forecast\", params=params).json()\n",
    "\n",
    "    # Format and return the simplified string\n",
    "    return (\n",
    "        f\"Current: {weather_data['current']['temperature_2m']}°F, \"\n",
    "        f\"High: {weather_data['daily']['temperature_2m_max'][0]}°F, \"\n",
    "        f\"Low: {weather_data['daily']['temperature_2m_min'][0]}°F\"\n",
    "    )\n",
    "\n",
    "# Write a text file\n",
    "def write_txt_file(file_path: str, content: str):\n",
    "    \"\"\"\n",
    "    Write a string into a .txt file (overwrites if exists).\n",
    "    Args:\n",
    "        file_path (str): Destination path.\n",
    "        content (str): Text to write.\n",
    "    Returns:\n",
    "        str: Path to the written file.\n",
    "    \"\"\"\n",
    "    with open(file_path, \"w\", encoding=\"utf-8\") as f:\n",
    "        f.write(content)\n",
    "    return file_path\n",
    "\n",
    "\n",
    "# Create a QR code\n",
    "def generate_qr_code(data: str, filename: str, image_path: str):\n",
    "    \"\"\"Generate a QR code image given data and an image path.\n",
    "\n",
    "    Args:\n",
    "        data: Text or URL to encode\n",
    "        filename: Name for the output PNG file (without extension)\n",
    "        image_path: Path to the image to be used in the QR code\n",
    "    \"\"\"\n",
    "    qr = qrcode.QRCode(error_correction=qrcode.constants.ERROR_CORRECT_H)\n",
    "    qr.add_data(data)\n",
    "\n",
    "    img = qr.make_image(image_factory=StyledPilImage, embedded_image_path=image_path)\n",
    "    output_file = f\"{filename}.png\"\n",
    "    img.save(output_file)\n",
    "\n",
    "    return f\"QR code saved as {output_file} containing: {data[:50]}...\""
   ]
  },
  {
   "cell_type": "markdown",
   "id": "4283e88e",
   "metadata": {},
   "source": [
    "### 4.2 Using your new tools\n",
    "\n",
    "Let's start with the `get_weather_from_ip` tool."
   ]
  },
  {
   "cell_type": "code",
   "execution_count": 19,
   "id": "b528f63e",
   "metadata": {},
   "outputs": [
    {
     "data": {
      "text/html": [
       "\n",
       "                <div style=\"border-left: 4px solid #444; margin: 10px 0; padding: 10px; background: #f0f0f0;\">\n",
       "                    <strong style=\"color:#222;\">🧠 LLM Action:</strong> <code>get_weather_from_ip</code>\n",
       "                    <pre style=\"color:#000; font-size:13px;\">{}</pre>\n",
       "                </div>\n",
       "                \n",
       "            <div style=\"border-left: 4px solid #007bff; margin: 10px 0; padding: 10px; background: #eef6ff;\">\n",
       "                <strong style=\"color:#222;\">🔧 Tool Response:</strong> <code>get_weather_from_ip</code>\n",
       "                <pre style=\"color:#000; font-size:13px;\">\"Current: 58.7\\u00b0F, High: 69.3\\u00b0F, Low: 57.3\\u00b0F\"</pre>\n",
       "            </div>\n",
       "            \n",
       "    <div style=\"border-left: 4px solid #28a745; margin: 20px 0; padding: 10px; background: #eafbe7;\">\n",
       "        <strong style=\"color:#222;\">✅ Final Assistant Message:</strong>\n",
       "        <p style=\"color:#000;\">Here's the current weather for your location:\n",
       "\n",
       "- **Current temperature**: 58.7°F\n",
       "- **High temperature**: 69.3°F\n",
       "- **Low temperature**: 57.3°F\n",
       "\n",
       "It's a mild day with temperatures ranging from the high 50s to high 60s Fahrenheit.</p>\n",
       "    </div>\n",
       "    \n",
       "        <div style=\"border-left: 4px solid #666; margin: 20px 0; padding: 10px; background: #f8f9fa;\">\n",
       "            <strong style=\"color:#222;\">🧭 Tool Sequence:</strong>\n",
       "            <p style=\"color:#000;\">get_weather_from_ip</p>\n",
       "        </div>\n",
       "        "
      ],
      "text/plain": [
       "<IPython.core.display.HTML object>"
      ]
     },
     "metadata": {},
     "output_type": "display_data"
    }
   ],
   "source": [
    "prompt = \"Can you get the weather for my location?\"\n",
    "\n",
    "response = client.chat.completions.create(\n",
    "    model=\"deepseek:deepseek-chat\",\n",
    "    messages=[{\"role\": \"user\", \"content\": (\n",
    "        prompt\n",
    "    )}],\n",
    "    tools=[\n",
    "        get_current_time,\n",
    "        get_weather_from_ip,\n",
    "        write_txt_file,\n",
    "        generate_qr_code\n",
    "    ],\n",
    "    max_turns=5\n",
    ")\n",
    "\n",
    "display_functions.pretty_print_chat_completion(response)"
   ]
  },
  {
   "cell_type": "markdown",
   "id": "00cd936f",
   "metadata": {},
   "source": [
    "Now, run the cell below to prompt the LLM to create a note for you."
   ]
  },
  {
   "cell_type": "code",
   "execution_count": 24,
   "id": "4dcd9337",
   "metadata": {},
   "outputs": [
    {
     "data": {
      "text/html": [
       "\n",
       "                <div style=\"border-left: 4px solid #444; margin: 10px 0; padding: 10px; background: #f0f0f0;\">\n",
       "                    <strong style=\"color:#222;\">🧠 LLM Action:</strong> <code>write_txt_file</code>\n",
       "                    <pre style=\"color:#000; font-size:13px;\">{\n",
       "  \"file_path\": \"reminders.txt\",\n",
       "  \"content\": \"Call Daniel tomorrow at 7PM\"\n",
       "}</pre>\n",
       "                </div>\n",
       "                \n",
       "            <div style=\"border-left: 4px solid #007bff; margin: 10px 0; padding: 10px; background: #eef6ff;\">\n",
       "                <strong style=\"color:#222;\">🔧 Tool Response:</strong> <code>write_txt_file</code>\n",
       "                <pre style=\"color:#000; font-size:13px;\">\"reminders.txt\"</pre>\n",
       "            </div>\n",
       "            \n",
       "    <div style=\"border-left: 4px solid #28a745; margin: 20px 0; padding: 10px; background: #eafbe7;\">\n",
       "        <strong style=\"color:#222;\">✅ Final Assistant Message:</strong>\n",
       "        <p style=\"color:#000;\">The file \"reminders.txt\" has been successfully created in the current directory with the content \"Call Daniel tomorrow at 7PM\".</p>\n",
       "    </div>\n",
       "    \n",
       "        <div style=\"border-left: 4px solid #666; margin: 20px 0; padding: 10px; background: #f8f9fa;\">\n",
       "            <strong style=\"color:#222;\">🧭 Tool Sequence:</strong>\n",
       "            <p style=\"color:#000;\">write_txt_file</p>\n",
       "        </div>\n",
       "        "
      ],
      "text/plain": [
       "<IPython.core.display.HTML object>"
      ]
     },
     "metadata": {},
     "output_type": "display_data"
    }
   ],
   "source": [
    "prompt = \"Please create a file called reminders.txt in the current directory that says 'Call Daniel tomorrow at 7PM'.\"\n",
    "\n",
    "response = client.chat.completions.create(\n",
    "    model=\"deepseek:deepseek-chat\",\n",
    "    messages=[{\"role\": \"user\", \"content\": (\n",
    "        prompt\n",
    "    )}],\n",
    "    tools=[\n",
    "        get_current_time,\n",
    "        get_weather_from_ip,\n",
    "        write_txt_file,\n",
    "        generate_qr_code\n",
    "    ],\n",
    "    max_turns=5\n",
    ")\n",
    "\n",
    "display_functions.pretty_print_chat_completion(response)"
   ]
  },
  {
   "cell_type": "markdown",
   "id": "cd20cbba",
   "metadata": {},
   "source": [
    "Open the file and read its contents."
   ]
  },
  {
   "cell_type": "code",
   "execution_count": 25,
   "id": "aa7d6274",
   "metadata": {},
   "outputs": [
    {
     "name": "stdout",
     "output_type": "stream",
     "text": [
      "Call Daniel tomorrow at 7PM\n"
     ]
    }
   ],
   "source": [
    "with open('reminders.txt', 'r') as file:\n",
    "    contents = file.read()\n",
    "    print(contents)"
   ]
  },
  {
   "cell_type": "markdown",
   "id": "765bcf75",
   "metadata": {},
   "source": [
    "Run the cell below to create the QR code."
   ]
  },
  {
   "cell_type": "code",
   "execution_count": 27,
   "id": "0352a30f",
   "metadata": {},
   "outputs": [
    {
     "data": {
      "text/html": [
       "\n",
       "                <div style=\"border-left: 4px solid #444; margin: 10px 0; padding: 10px; background: #f0f0f0;\">\n",
       "                    <strong style=\"color:#222;\">🧠 LLM Action:</strong> <code>generate_qr_code</code>\n",
       "                    <pre style=\"color:#000; font-size:13px;\">{\n",
       "  \"data\": \"www.deeplearning.ai\",\n",
       "  \"filename\": \"dl_qr_code\",\n",
       "  \"image_path\": \"dl_logo.jpg\"\n",
       "}</pre>\n",
       "                </div>\n",
       "                \n",
       "            <div style=\"border-left: 4px solid #007bff; margin: 10px 0; padding: 10px; background: #eef6ff;\">\n",
       "                <strong style=\"color:#222;\">🔧 Tool Response:</strong> <code>generate_qr_code</code>\n",
       "                <pre style=\"color:#000; font-size:13px;\">\"QR code saved as dl_qr_code.png containing: www.deeplearning.ai...\"</pre>\n",
       "            </div>\n",
       "            \n",
       "    <div style=\"border-left: 4px solid #28a745; margin: 20px 0; padding: 10px; background: #eafbe7;\">\n",
       "        <strong style=\"color:#222;\">✅ Final Assistant Message:</strong>\n",
       "        <p style=\"color:#000;\">Your QR code has been successfully generated and saved as `dl_qr_code.png`. It contains the link to www.deeplearning.ai and includes your company's logo. Let me know if you need any further assistance!</p>\n",
       "    </div>\n",
       "    \n",
       "        <div style=\"border-left: 4px solid #666; margin: 20px 0; padding: 10px; background: #f8f9fa;\">\n",
       "            <strong style=\"color:#222;\">🧭 Tool Sequence:</strong>\n",
       "            <p style=\"color:#000;\">generate_qr_code</p>\n",
       "        </div>\n",
       "        "
      ],
      "text/plain": [
       "<IPython.core.display.HTML object>"
      ]
     },
     "metadata": {},
     "output_type": "display_data"
    }
   ],
   "source": [
    "prompt = \"Can you make a QR code for me using my company's logo that goes to www.deeplearning.ai? The logo is located at `dl_logo.jpg`. You can call it dl_qr_code.\"\n",
    "\n",
    "response = client.chat.completions.create(\n",
    "    model=\"dashscope:qwen3-max\",\n",
    "    messages=[{\"role\": \"user\", \"content\": (\n",
    "        prompt\n",
    "    )}],\n",
    "    tools=[\n",
    "        get_current_time,\n",
    "        get_weather_from_ip,\n",
    "        write_txt_file,\n",
    "        generate_qr_code\n",
    "    ],\n",
    "    max_turns=5\n",
    ")\n",
    "\n",
    "display_functions.pretty_print_chat_completion(response)"
   ]
  },
  {
   "cell_type": "markdown",
   "id": "0aca60e5",
   "metadata": {},
   "source": [
    "Take a look at the QR by running the cell below and try it out to see if it works by taking you to the DeepLearning.AI website."
   ]
  },
  {
   "cell_type": "code",
   "execution_count": 28,
   "id": "d4352f3a",
   "metadata": {},
   "outputs": [
    {
     "data": {
      "image/png": "[encoded data removed]",
      "text/plain": [
       "<IPython.core.display.Image object>"
      ]
     },
     "execution_count": 28,
     "metadata": {},
     "output_type": "execute_result"
    }
   ],
   "source": [
    "from IPython.display import Image, display\n",
    "\n",
    "# Display image directly\n",
    "Image('dl_qr_code.png')"
   ]
  },
  {
   "cell_type": "markdown",
   "id": "d0ed4e32",
   "metadata": {},
   "source": [
    "### 4.3 Using multiple tools at once\n",
    "\n",
    "use a complex prompt:\n",
    "\n",
    "> Can you help me create a qr code that goes to www.deeplearning.com from the image dl_logo.jpg? Also write me a txt note with the current weather please.\n",
    "\n",
    "Note: This prompt requires a good amount of logic to understand what to call and when. For example, although you ask it to write a text note first and then describe the contents, the LLM will need that information first to pass it to the text note. If the LLM asked to use `write_txt_file` first, it would not have the information from `get_weather_from_ip`. This is a good example of the power of LLMs to parse natural language and use appropriate tools in the right order to accomplish a wide variety of tasks.\n",
    "\n",
    "<div style=\"background-color: #ffe4e1; padding: 12px; border-radius: 6px; color: black;\">\n",
    "\n",
    "<h4>🔍 What to Notice:</h4>\n",
    "\n",
    "<ul>\n",
    "  <li>The LLM <b>automatically chooses</b> which tool to use based on the user request</li>\n",
    "  <li><b>Parameters are inferred</b> from the user's message (like file names, content, URLs)</li>\n",
    "  <li>Each tool <b>returns information</b> that the LLM incorporates into its response</li>\n",
    "  <li><b>No-parameter tools</b> like weather and time are perfect for quick information requests</li>\n",
    "  <li>The conversation feels <b>natural</b> despite complex operations happening behind the scenes</li>\n",
    "</ul>\n",
    "\n",
    "</div>"
   ]
  },
  {
   "cell_type": "code",
   "execution_count": 29,
   "id": "8b24cf0c",
   "metadata": {},
   "outputs": [
    {
     "data": {
      "text/html": [
       "\n",
       "                <div style=\"border-left: 4px solid #444; margin: 10px 0; padding: 10px; background: #f0f0f0;\">\n",
       "                    <strong style=\"color:#222;\">🧠 LLM Action:</strong> <code>get_weather_from_ip</code>\n",
       "                    <pre style=\"color:#000; font-size:13px;\">{}</pre>\n",
       "                </div>\n",
       "                \n",
       "                <div style=\"border-left: 4px solid #444; margin: 10px 0; padding: 10px; background: #f0f0f0;\">\n",
       "                    <strong style=\"color:#222;\">🧠 LLM Action:</strong> <code>generate_qr_code</code>\n",
       "                    <pre style=\"color:#000; font-size:13px;\">{\n",
       "  \"data\": \"www.deeplearning.com\",\n",
       "  \"filename\": \"deeplearning_qr\",\n",
       "  \"image_path\": \"dl_logo.jpg\"\n",
       "}</pre>\n",
       "                </div>\n",
       "                \n",
       "            <div style=\"border-left: 4px solid #007bff; margin: 10px 0; padding: 10px; background: #eef6ff;\">\n",
       "                <strong style=\"color:#222;\">🔧 Tool Response:</strong> <code>get_weather_from_ip</code>\n",
       "                <pre style=\"color:#000; font-size:13px;\">\"Current: 58.0\\u00b0F, High: 69.6\\u00b0F, Low: 57.4\\u00b0F\"</pre>\n",
       "            </div>\n",
       "            \n",
       "            <div style=\"border-left: 4px solid #007bff; margin: 10px 0; padding: 10px; background: #eef6ff;\">\n",
       "                <strong style=\"color:#222;\">🔧 Tool Response:</strong> <code>generate_qr_code</code>\n",
       "                <pre style=\"color:#000; font-size:13px;\">\"QR code saved as deeplearning_qr.png containing: www.deeplearning.com...\"</pre>\n",
       "            </div>\n",
       "            \n",
       "                <div style=\"border-left: 4px solid #444; margin: 10px 0; padding: 10px; background: #f0f0f0;\">\n",
       "                    <strong style=\"color:#222;\">🧠 LLM Action:</strong> <code>write_txt_file</code>\n",
       "                    <pre style=\"color:#000; font-size:13px;\">{\n",
       "  \"file_path\": \"weather_note.txt\",\n",
       "  \"content\": \"Current: 58.0\\u00b0F, High: 69.6\\u00b0F, Low: 57.4\\u00b0F\"\n",
       "}</pre>\n",
       "                </div>\n",
       "                \n",
       "            <div style=\"border-left: 4px solid #007bff; margin: 10px 0; padding: 10px; background: #eef6ff;\">\n",
       "                <strong style=\"color:#222;\">🔧 Tool Response:</strong> <code>write_txt_file</code>\n",
       "                <pre style=\"color:#000; font-size:13px;\">\"weather_note.txt\"</pre>\n",
       "            </div>\n",
       "            \n",
       "    <div style=\"border-left: 4px solid #28a745; margin: 20px 0; padding: 10px; background: #eafbe7;\">\n",
       "        <strong style=\"color:#222;\">✅ Final Assistant Message:</strong>\n",
       "        <p style=\"color:#000;\">I've created a QR code that links to www.deeplearning.com using the image dl_logo.jpg, and saved it as \"deeplearning_qr.png\". Additionally, I've written a text file named \"weather_note.txt\" with the current weather details: Current: 58.0°F, High: 69.6°F, Low: 57.4°F. Let me know if you need anything else!</p>\n",
       "    </div>\n",
       "    \n",
       "        <div style=\"border-left: 4px solid #666; margin: 20px 0; padding: 10px; background: #f8f9fa;\">\n",
       "            <strong style=\"color:#222;\">🧭 Tool Sequence:</strong>\n",
       "            <p style=\"color:#000;\">get_weather_from_ip → generate_qr_code → write_txt_file</p>\n",
       "        </div>\n",
       "        "
      ],
      "text/plain": [
       "<IPython.core.display.HTML object>"
      ]
     },
     "metadata": {},
     "output_type": "display_data"
    }
   ],
   "source": [
    "prompt = \"Can you help me create a qr code that goes to www.deeplearning.com from the image dl_logo.jpg? Also write me a txt note with the current weather please.\"\n",
    "\n",
    "response = client.chat.completions.create(\n",
    "    model=\"dashscope:qwen3-max\",\n",
    "    messages=[{\"role\": \"user\", \"content\": (\n",
    "        prompt\n",
    "    )}],\n",
    "    tools=[\n",
    "        get_weather_from_ip,\n",
    "        get_current_time,\n",
    "        write_txt_file,\n",
    "        generate_qr_code\n",
    "    ],\n",
    "    max_turns=10\n",
    ")\n",
    "\n",
    "display_functions.pretty_print_chat_completion(response)"
   ]
  },
  {
   "cell_type": "markdown",
   "id": "89a1eb7c",
   "metadata": {},
   "source": [
    "### Model Options\n",
    "\n",
    "You can experiment with different OpenAI models when running these tool-calling workflows. Each model offers a different balance of capability, cost, and speed:\n",
    "\n",
    "- **`openai:gpt-4o`** — optimized for reasoning and speed\n",
    "- **`openai:gpt-4.1`** — strong reasoning performance, good for complex tasks\n",
    "- **`openai:gpt-4.1-mini`** — lighter, faster, and cheaper than full GPT-4.1\n",
    "- **`openai:gpt-3.5-turbo`** — efficient for simpler tasks and quick iterations\n",
    "\n",
    "Choosing a model depends on your goals:\n",
    "- Use smaller models for fast, low-cost prototyping\n",
    "- Switch to stronger models when tasks require better reasoning or multi-step orchestration\n",
    "\n",
    "\n",
    "### Final Takeaways\n",
    "\n",
    "- Tool calling lets LLMs go beyond text generation—they can now use functions as part of their reasoning.\n",
    "- Clear, well-documented functions (with precise docstrings) help the model know when and how to use each tool.\n",
    "- AISuite handles the complexity of translating python functions into tool schemas and orchestrating multi-step workflows.\n",
    "- Choosing the right model matters: smaller models are faster and cheaper for simple tasks, while stronger models are better for reasoning-heavy workflows.\n",
    "- Watching the conversation flow (prompts, tool calls, results, final response) is essential for debugging and improving agentic behaviors.\n",
    "\n",
    "With these elements in place, you now have the foundation to design agents that combine LLM reasoning with external tools to complete more complex tasks.\n"
   ]
  },
  {
   "cell_type": "markdown",
   "id": "f36cbbf5",
   "metadata": {},
   "source": [
    "## 🧠 Agentic Tool-Calling Behavior by Model\n",
    "\n",
    "### 模型行为对比表\n",
    "\n",
    "| 模型名称               | 工具调用风格         | 参数推理能力         | 示例行为                                                                 | 适配建议                                               |\n",
    "|------------------------|----------------------|----------------------|--------------------------------------------------------------------------|--------------------------------------------------------|\n",
    "| `deepseek:deepseek-chat` | 谨慎、明确确认       | ❌ 不假设路径         | 请求补充 `\"file_path\"` 后才调用 `write_txt_file`                         | 在 prompt 中明确路径，如 `\"./reminders.txt\"`           |\n",
    "| `dashscope:qwen3-max`    | 主动、容错强         | ✅ 自动推理默认值     | 自动调用 `write_txt_file(\"./reminders.txt\", \"...\")` 无需补充             | 可用自然语言描述意图，无需结构化                       |\n",
    "| `openai:gpt-4o`          | 结构化、稳健         | ✅ 推理能力强         | 自动调用工具并生成最终回答                                               | 使用标准化语句，明确参数结构                           |\n",
    "| `openai:o4-mini`         | 精简、偏保守         | ✅ 中等推理能力       | 有时不调用工具，或仅生成自然语言回应                                     | 使用明确任务描述和参数提示词                           |\n",
    "\n",
    "---\n",
    "\n",
    "### 📌 示例 Prompt 对比\n",
    "\n",
    "| Prompt                                                                 | DeepSeek 行为               | Qwen 行为                     |\n",
    "|------------------------------------------------------------------------|------------------------------|-------------------------------|\n",
    "| `\"Can you make a txt note for me called reminders.txt that reminds me to call Daniel tomorrow at 7PM?\"` | 请求补充路径                 | 自动推理路径并调用工具         |\n",
    "| `\"Please create a file called reminders.txt in the current directory that says 'Call Daniel tomorrow at 7PM'\"` | ✅ 成功推理并调用工具         | ✅ 同样成功                    |\n",
    "\n",
    "---\n",
    "\n",
    "### 🧩 总结建议\n",
    "\n",
    "- 对于 **DeepSeek**，建议在 prompt 中明确路径、格式和目标，避免模型请求 clarification。\n",
    "- 对于 **Qwen**，可以使用更自然的语言描述任务，它会主动推理合理参数。\n",
    "- 对于 **OpenAI 系列模型**，结构化表达更稳定，尤其适合多步骤任务。\n",
    "- 你可以根据模型风格封装 prompt 适配器，提升工具调用成功率。\n",
    "\n"
   ]
  },
  {
   "cell_type": "code",
   "execution_count": null,
   "id": "baf209bc",
   "metadata": {},
   "outputs": [],
   "source": []
  }
 ],
 "metadata": {
  "kernelspec": {
   "display_name": "base",
   "language": "python",
   "name": "python3"
  },
  "language_info": {
   "codemirror_mode": {
    "name": "ipython",
    "version": 3
   },
   "file_extension": ".py",
   "mimetype": "text/x-python",
   "name": "python",
   "nbconvert_exporter": "python",
   "pygments_lexer": "ipython3",
   "version": "3.13.5"
  }
 },
 "nbformat": 4,
 "nbformat_minor": 5
}
